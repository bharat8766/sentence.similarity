{
 "cells": [
  {
   "cell_type": "code",
   "execution_count": 1,
   "metadata": {
    "collapsed": true
   },
   "outputs": [],
   "source": [
    "import tensorflow_hub as hub\n",
    "import tensorflow as tf\n",
    "import pandas as pd\n",
    "import numpy as np\n",
    "import nltk\n",
    "import time\n",
    "import re\n",
    "import os"
   ]
  },
  {
   "cell_type": "code",
   "execution_count": 2,
   "metadata": {},
   "outputs": [
    {
     "data": {
      "text/html": [
       "<style type=\"text/css\">\n",
       "table.dataframe td, table.dataframe th {\n",
       "    border: 1px  black solid !important;\n",
       "  color: black !important;\n",
       "}"
      ],
      "text/plain": [
       "<IPython.core.display.HTML object>"
      ]
     },
     "metadata": {},
     "output_type": "display_data"
    }
   ],
   "source": [
    "%%HTML\n",
    "<style type=\"text/css\">\n",
    "table.dataframe td, table.dataframe th {\n",
    "    border: 1px  black solid !important;\n",
    "  color: black !important;\n",
    "}"
   ]
  },
  {
   "cell_type": "code",
   "execution_count": 3,
   "metadata": {
    "collapsed": true
   },
   "outputs": [],
   "source": [
    "# with open('/home/rahul/Downloads/bharat/downloads/9.txt', 'r') as data:\n",
    "#   tr = data.read()"
   ]
  },
  {
   "cell_type": "code",
   "execution_count": 4,
   "metadata": {},
   "outputs": [
    {
     "name": "stdout",
     "output_type": "stream",
     "text": [
      "INFO:tensorflow:Using /tmp/tfhub_modules to cache modules.\n",
      "INFO:tensorflow:Downloading TF-Hub Module 'https://tfhub.dev/google/universal-sentence-encoder-large/3'.\n",
      "INFO:tensorflow:Downloading https://tfhub.dev/google/universal-sentence-encoder-large/3: 100.00MB\n",
      "INFO:tensorflow:Downloading https://tfhub.dev/google/universal-sentence-encoder-large/3: 220.00MB\n",
      "INFO:tensorflow:Downloading https://tfhub.dev/google/universal-sentence-encoder-large/3: 340.00MB\n",
      "INFO:tensorflow:Downloading https://tfhub.dev/google/universal-sentence-encoder-large/3: 460.00MB\n",
      "INFO:tensorflow:Downloading https://tfhub.dev/google/universal-sentence-encoder-large/3: 550.00MB\n",
      "INFO:tensorflow:Downloading https://tfhub.dev/google/universal-sentence-encoder-large/3: 680.00MB\n",
      "INFO:tensorflow:Downloading https://tfhub.dev/google/universal-sentence-encoder-large/3: 800.00MB\n",
      "INFO:tensorflow:Downloaded https://tfhub.dev/google/universal-sentence-encoder-large/3, Total size: 810.60MB\n",
      "INFO:tensorflow:Downloaded TF-Hub Module 'https://tfhub.dev/google/universal-sentence-encoder-large/3'.\n",
      "116.65853977203369\n"
     ]
    }
   ],
   "source": [
    "\n",
    "# tensroflow hub module for Universal sentence Encoder\n",
    "module_url = \"https://tfhub.dev/google/universal-sentence-encoder-large/3\" \n",
    "#@param [\"https://tfhub.dev/google/universal-sentence-encoder/2\", \n",
    "#\"https://tfhub.dev/google/universal-sentence-encoder-large/3\"]\n",
    "start = time.time()\n",
    "embed = hub.Module(module_url)\n",
    "end = time.time()\n",
    "print(end-start)"
   ]
  },
  {
   "cell_type": "code",
   "execution_count": 5,
   "metadata": {},
   "outputs": [
    {
     "data": {
      "text/plain": [
       "'/home/rahul/Downloads/bharat/speech_2_text'"
      ]
     },
     "execution_count": 5,
     "metadata": {},
     "output_type": "execute_result"
    }
   ],
   "source": [
    "pwd"
   ]
  },
  {
   "cell_type": "code",
   "execution_count": 6,
   "metadata": {
    "collapsed": true
   },
   "outputs": [],
   "source": [
    "query1 = \"Tata Group Mediprime mediclaim policy tata group axis bank account verification department Medical Health Policy \"\n",
    "query2 = \"insured Person suffers an Illness or Accident during the Policy period that requires Insured Person’s Hospitalization as an inpatient,\"\n",
    "query3 = \"Day Care Procedure hospital beds Day Care procedures are surgeries or procedures which are undertaken by insured person as an inpatient for less than 24 hours in a hospital.\"\n",
    "query4 = \"Critical Illness Cover Cancer heart attack kidney failure bone marrow transplantation paralysis stroke\"\n",
    "query5 = \"Pre post hospitalization benefit includes medical Expenses incurred within 30 days immediately before the Insured Person was hospitalized  60 days immediately\""
   ]
  },
  {
   "cell_type": "code",
   "execution_count": null,
   "metadata": {
    "collapsed": true
   },
   "outputs": [],
   "source": [
    "# input_filename = input(\"Input text filename : \")\n",
    "# filename = input_filename+'.txt'\n",
    "filename = \"xyz.txt\"\n",
    "with open(filename, 'r') as data:\n",
    "  tr = data.read()\n",
    "tr = tr.replace('\\n','')"
   ]
  },
  {
   "cell_type": "code",
   "execution_count": null,
   "metadata": {
    "collapsed": true
   },
   "outputs": [],
   "source": [
    "# print(f.read())"
   ]
  },
  {
   "cell_type": "code",
   "execution_count": null,
   "metadata": {
    "collapsed": true
   },
   "outputs": [],
   "source": [
    "# tr = tr.replace('\\n','')\n"
   ]
  },
  {
   "cell_type": "code",
   "execution_count": 7,
   "metadata": {
    "collapsed": true
   },
   "outputs": [],
   "source": [
    "#tr = \"\"\"Accident near Mukesh near Accredited Joint Venture Confirmation Call Upon Time Store Welcome Book Book Book with ATM Welcome to Gana, who comes to New Delhi, who also opens the account with New Customer. Everybody in the Bank has a pass book and check book ATM The card was found neither the new customer&#39;s account was checked by the ATM card Tata AIG Group&#39;s Mediclaim Policy Medical Health Cashless Card Insure You have received the ñance card you have not got. About the jamant about what you were told about the execution of the last rites, after getting the last working condition, you will get an address by post. Sir OK OK Tata Group Mediclaim Policy Medical Card Health Insurance&#39;s Last Working Complelete After you will be given your sight. Sir, OK is a good thing because in the medical test, if something was going well beforehand So 48 months i can not do that and the room rent is spent on the cost of the medicine. Doctor&#39;s fees operation is going on, if the buses are taken to Dabra Hospital and all will have debt free treatments but you will get Extra cover and second All the money will be paid in the medical admittance card from the month, all your loved ones can love and the Cantonment fees are just one registration. I would like to have a turn of 1 year and according to the Edge, in 2642, from the account of the government&#39;s thorns, one more time, after the search operation of my deposit, I will call you in a little detail. Sir, you are a king on the line Who told your bank account that if you understand everything about a health insurance policy, then you will get it cleared in 7 and 10 days, by going through your post. If you can get your confirmation message then ask once in a year 226 First you will get it and you will get your transfer to the Accurate verification department of Chamura College, who can confirm the address confirmation ticket of Srinagar, if the medicine is first ill, or if not Tiffin is taking advantage of any medicines for the sick, now he will call anyway with 48 hours after the HIV AIDS day. Whenever there will be any last lapse date like Uusaid Crime War for pregnant women to reduce weight loss due to obesity, it will be 7 days for 1 month - there will be some 11 days of accidents Then the accentant handset will report on the other. I will report the Accident Operation Surgery from the right. Transferring after 300000 minutes is okay, what is the name of Sir Madam Lakshmi Luck Ishmael Sahu ji Sahu ji Madam ji 26 years ago today&#39;s date of betting will get confirmation message from the accuser so far, okay bhakti song zindagi hai bhakti song devi song singing life is telling him life is hello hello hello hello Hello to run Thanks very much Sir Madam Pacific Sir Axis Bank Praveen Department Talk to me My Nation Sundar Sahu Thanks also to this gooseberry IRDS Representation time Ents Eliichi Marathi 0010 If anyway, if you come to top of Tataji, then he can not take the mobile by calling double Zero to Double Double 780 and get mobile too. Thank you very much for sending it to Tata AIG Group. Deresaar on the hymns for the health department, before it is the smallest of you, do not want to request it, the result of which was the accident of any disease. Fit and Fine is not again the cash premium amount of 3 lakhs, which is 2642 or Munda&#39;s workers in the name of the soldiers of the end and tickets for 1 year. Whether the facility is available from the Office of Body Charger Medicines 30 days before work After spending Orissa, 4 days of expenditure, no one near the cost of clothes, the racer, what is the price of what is ₹10, what will be the handset password and will be remembered in memory of the coordinator You do not have to spend any time on time, like the Roman Renaissance body S Much SI Q 450 and Sir once went 24 times, we could not even think of what would happen next, Is anyone at the Trimmer Service Center any TV near 24 and tell the person to accompany him? Time on time will be What is the Limit but you can get it, you should tell us what to do If you do not have any of the sick or pregnant in front of a sick person, then such a platform Crime in Test Century Suicide Right All Colleges work to reduce obesity and pass the four to four star hotels in the ashram After 25 days of playlist, after the Festival season, if this type of Accident will pass four diseases but if you kill a little about the pass then tell it time After 10 days after Android, pass in password hacker and send it to the full information and read the second carefully and leave the car in the Kalpi and thought King Park in India and go to the other and see the money without thinking of treatment. How much money can be spent near the tree nowadays, the King Market Incident promised to get the information on the number 54900. How much time did you tell by cutting the amount of rupees If you feel comfortable, then you can also do the live time of the participants from 1 and do it less than yourself. Your name is such a Mr. Naresh Sunder Sahu Mobile Number 79 0786 1439 Divya Papa Mobile Number 113 90907 61437 This 4 November 1981 Science paper Use Laxmi Sahu Saheb Do not lessen the name of the village Pada village is the name of the village What is the name of the name of Padampur Padampur Village and what is the Sambar by the district and the state Gopa Gopal Ji Temple in Gagal Mandir Is Gopal Ji Temple Bilaspur Verification Form also reached Ambilash, but to name it, now you have the mobile android and furniture to stop sending the message from the new company to the new company. In the message and message you will only get any channel number. In the message you will only get any number of four numbers, remember that number but I suppress it Land does not understand that do not alarm the number of messages\"\"\""
   ]
  },
  {
   "cell_type": "code",
   "execution_count": 8,
   "metadata": {
    "collapsed": true
   },
   "outputs": [],
   "source": [
    "file1 = open(\"results/query_results/66c.txt\",\"w\") "
   ]
  },
  {
   "cell_type": "code",
   "execution_count": 9,
   "metadata": {
    "collapsed": true
   },
   "outputs": [],
   "source": [
    "def splitParagraphIntoSentences(paragraph):\n",
    "    ''' break a paragraph into sentences\n",
    "        and return a list '''\n",
    "    import re\n",
    "    # to split by multile characters\n",
    "\n",
    "    #   regular expressions are easiest (and fastest)\n",
    "    sentenceEnders = re.compile('[!.?]')\n",
    "    sentenceList = sentenceEnders.split(paragraph)\n",
    "    return sentenceList"
   ]
  },
  {
   "cell_type": "code",
   "execution_count": 10,
   "metadata": {
    "scrolled": true
   },
   "outputs": [
    {
     "name": "stdout",
     "output_type": "stream",
     "text": [
      "0) Accident near Mukesh near Accredited Joint Venture Confirmation Call Upon Time Store Welcome Book Book Book with ATM Welcome to Gana, who comes to New Delhi, who also opens the account with New Customer\n",
      "1) Everybody in the Bank has a pass book and check book ATM The card was found neither the new customer&#39;s account was checked by the ATM card Tata AIG Group&#39;s Mediclaim Policy Medical Health Cashless Card Insure You have received the ñance card you have not got\n",
      "2) About the jamant about what you were told about the execution of the last rites, after getting the last working condition, you will get an address by post\n",
      "3) Sir OK OK Tata Group Mediclaim Policy Medical Card Health Insurance&#39;s Last Working Complelete After you will be given your sight\n",
      "4) Sir, OK is a good thing because in the medical test, if something was going well beforehand So 48 months i can not do that and the room rent is spent on the cost of the medicine\n",
      "5) Doctor&#39;s fees operation is going on, if the buses are taken to Dabra Hospital and all will have debt free treatments but you will get Extra cover and second All the money will be paid in the medical admittance card from the month, all your loved ones can love and the Cantonment fees are just one registration\n",
      "6) I would like to have a turn of 1 year and according to the Edge, in 2642, from the account of the government&#39;s thorns, one more time, after the search operation of my deposit, I will call you in a little detail\n",
      "7) Sir, you are a king on the line Who told your bank account that if you understand everything about a health insurance policy, then you will get it cleared in 7 and 10 days, by going through your post\n",
      "8) If you can get your confirmation message then ask once in a year 226 First you will get it and you will get your transfer to the Accurate verification department of Chamura College, who can confirm the address confirmation ticket of Srinagar, if the medicine is first ill, or if not Tiffin is taking advantage of any medicines for the sick, now he will call anyway with 48 hours after the HIV AIDS day\n",
      "9) Whenever there will be any last lapse date like Uusaid Crime War for pregnant women to reduce weight loss due to obesity, it will be 7 days for 1 month - there will be some 11 days of accidents Then the accentant handset will report on the other\n",
      "10) I will report the Accident Operation Surgery from the right\n",
      "11) Transferring after 300000 minutes is okay, what is the name of Sir Madam Lakshmi Luck Ishmael Sahu ji Sahu ji Madam ji 26 years ago today&#39;s date of betting will get confirmation message from the accuser so far, okay bhakti song zindagi hai bhakti song devi song singing life is telling him life is hello hello hello hello Hello to run Thanks very much Sir Madam Pacific Sir Axis Bank Praveen Department Talk to me My Nation Sundar Sahu Thanks also to this gooseberry IRDS Representation time Ents Eliichi Marathi 0010 If anyway, if you come to top of Tataji, then he can not take the mobile by calling double Zero to Double Double 780 and get mobile too\n",
      "12) Thank you very much for sending it to Tata AIG Group\n",
      "13) Deresaar on the hymns for the health department, before it is the smallest of you, do not want to request it, the result of which was the accident of any disease\n",
      "14) Fit and Fine is not again the cash premium amount of 3 lakhs, which is 2642 or Munda&#39;s workers in the name of the soldiers of the end and tickets for 1 year\n",
      "15) Whether the facility is available from the Office of Body Charger Medicines 30 days before work After spending Orissa, 4 days of expenditure, no one near the cost of clothes, the racer, what is the price of what is ₹10, what will be the handset password and will be remembered in memory of the coordinator You do not have to spend any time on time, like the Roman Renaissance body S Much SI Q 450 and Sir once went 24 times, we could not even think of what would happen next, Is anyone at the Trimmer Service Center any TV near 24 and tell the person to accompany him\n",
      "16) Time on time will be What is the Limit but you can get it, you should tell us what to do If you do not have any of the sick or pregnant in front of a sick person, then such a platform Crime in Test Century Suicide Right All Colleges work to reduce obesity and pass the four to four star hotels in the ashram After 25 days of playlist, after the Festival season, if this type of Accident will pass four diseases but if you kill a little about the pass then tell it time After 10 days after Android, pass in password hacker and send it to the full information and read the second carefully and leave the car in the Kalpi and thought King Park in India and go to the other and see the money without thinking of treatment\n",
      "17) How much money can be spent near the tree nowadays, the King Market Incident promised to get the information on the number 54900\n",
      "18) How much time did you tell by cutting the amount of rupees If you feel comfortable, then you can also do the live time of the participants from 1 and do it less than yourself\n",
      "19) Your name is such a Mr\n",
      "20) Naresh Sunder Sahu Mobile Number 79 0786 1439 Divya Papa Mobile Number 113 90907 61437 This 4 November 1981 Science paper Use Laxmi Sahu Saheb Do not lessen the name of the village Pada village is the name of the village What is the name of the name of Padampur Padampur Village and what is the Sambar by the district and the state Gopa Gopal Ji Temple in Gagal Mandir Is Gopal Ji Temple Bilaspur Verification Form also reached Ambilash, but to name it, now you have the mobile android and furniture to stop sending the message from the new company to the new company\n",
      "21) In the message and message you will only get any channel number\n",
      "22) In the message you will only get any number of four numbers, remember that number but I suppress it Land does not understand that do not alarm the number of messages\n"
     ]
    }
   ],
   "source": [
    "\n",
    "if __name__ == '__main__':\n",
    "    p = tr\n",
    "    nlst = []\n",
    "    from IPython.display import HTML, display\n",
    "    import tabulate\n",
    "    sentences = splitParagraphIntoSentences(p)\n",
    "    i = 0\n",
    "    for s in sentences:\n",
    "        \n",
    "        #print(i)\n",
    "        k = str(i) + \") \" + s.strip()\n",
    "        i = i+1\n",
    "        #nlst.append[k]\n",
    "#         table  = k\n",
    "#         display(HTML(tabulate.tabulate(table, tablefmt='html')))\n",
    "        file1.write(\"\\n\") \n",
    "            \n",
    "        file1.writelines(k) \n",
    "        file1.write(\"\\n\")\n",
    "        print (k)\n",
    "#       \n",
    "#     s.strip()"
   ]
  },
  {
   "cell_type": "code",
   "execution_count": 11,
   "metadata": {
    "collapsed": true
   },
   "outputs": [],
   "source": [
    "#for text embeddings : \n",
    "def get_features(texts):\n",
    "    if type(texts) is str:\n",
    "        texts = [texts]\n",
    "    with tf.Session() as sess:\n",
    "        sess.run([tf.global_variables_initializer(), tf.tables_initializer()])\n",
    "        return sess.run(embed(texts))"
   ]
  },
  {
   "cell_type": "code",
   "execution_count": 12,
   "metadata": {
    "collapsed": true
   },
   "outputs": [],
   "source": [
    "#preprocessing the text via removing stop words and some other symbols\n",
    "def remove_stopwords(stop_words, tokens):\n",
    "    res = []\n",
    "    for token in tokens:\n",
    "        if not token in stop_words:\n",
    "            res.append(token)\n",
    "    return res\n",
    "\n",
    "def process_text(text):\n",
    "    text = text.encode('ascii', errors='ignore').decode()\n",
    "    text = text.lower()\n",
    "    text = re.sub(r'http\\S+', ' ', text)\n",
    "    text = re.sub(r'#+', ' ', text )\n",
    "    text = re.sub(r'@[A-Za-z0-9]+', ' ', text)\n",
    "    text = re.sub(r\"([A-Za-z]+)'s\", r\"\\1 is\", text)\n",
    "    #text = re.sub(r\"\\'s\", \" \", text)\n",
    "    text = re.sub(r\"\\'ve\", \" have \", text)\n",
    "    text = re.sub(r\"won't\", \"will not \", text)\n",
    "    text = re.sub(r\"isn't\", \"is not \", text)\n",
    "    text = re.sub(r\"can't\", \"can not \", text)\n",
    "    text = re.sub(r\"n't\", \" not \", text)\n",
    "    text = re.sub(r\"i'm\", \"i am \", text)\n",
    "    text = re.sub(r\"\\'re\", \" are \", text)\n",
    "    text = re.sub(r\"\\'d\", \" would \", text)\n",
    "    text = re.sub(r\"\\'ll\", \" will \", text)\n",
    "    text = re.sub('\\W', ' ', text)\n",
    "    text = re.sub(r'\\d+', ' ', text)\n",
    "    text = re.sub('\\s+', ' ', text)\n",
    "    text = text.strip()\n",
    "    return text\n",
    "\n",
    "def lemmatize(tokens):\n",
    "    lemmatizer = nltk.stem.WordNetLemmatizer()\n",
    "    lemma_list = []\n",
    "    for token in tokens:\n",
    "        lemma = lemmatizer.lemmatize(token, 'v')\n",
    "        if lemma == token:\n",
    "            lemma = lemmatizer.lemmatize(token)\n",
    "        lemma_list.append(lemma)\n",
    "    # return [ lemmatizer.lemmatize(token, 'v') for token in tokens ]\n",
    "    return lemma_list\n",
    "\n",
    "\n",
    "def process_all(text):\n",
    "    text = process_text(text)\n",
    "    return ' '.join(remove_stopwords(stop_words, text.split()))\n"
   ]
  },
  {
   "cell_type": "code",
   "execution_count": 13,
   "metadata": {
    "collapsed": true
   },
   "outputs": [],
   "source": [
    "data = sentences\n",
    "data_processed = list(map(process_text, data))"
   ]
  },
  {
   "cell_type": "code",
   "execution_count": 14,
   "metadata": {},
   "outputs": [
    {
     "name": "stdout",
     "output_type": "stream",
     "text": [
      "INFO:tensorflow:Saver not created because there are no variables in the graph to restore\n"
     ]
    },
    {
     "data": {
      "text/plain": [
       "(23, 512)"
      ]
     },
     "execution_count": 14,
     "metadata": {},
     "output_type": "execute_result"
    }
   ],
   "source": [
    "#creating embedding vectors of the data\n",
    "BASE_VECTORS = get_features(data)\n",
    "BASE_VECTORS.shape"
   ]
  },
  {
   "cell_type": "code",
   "execution_count": 15,
   "metadata": {
    "collapsed": true
   },
   "outputs": [],
   "source": [
    "#cosine similarity metric for finding the semantic similarity between the splitted sentences and the phrase/query \n",
    "# that is needed to be checked.\n",
    "def cosine_similarity(v1, v2):\n",
    "    mag1 = np.linalg.norm(v1)\n",
    "    mag2 = np.linalg.norm(v2)\n",
    "    if (not mag1) or (not mag2):\n",
    "        return 0\n",
    "    return np.dot(v1, v2) / (mag1 * mag2)"
   ]
  },
  {
   "cell_type": "code",
   "execution_count": 16,
   "metadata": {
    "collapsed": true
   },
   "outputs": [],
   "source": [
    "def test_similarity(text1, text2):\n",
    "    vec1 = get_features(text1)[0]\n",
    "    vec2 = get_features(text2)[0]\n",
    "    print(vec1.shape)\n",
    "    return cosine_similarity(vec1, vec2)"
   ]
  },
  {
   "cell_type": "code",
   "execution_count": 30,
   "metadata": {
    "collapsed": true
   },
   "outputs": [],
   "source": [
    "def semantic_search(query, data, vectors):\n",
    "    from IPython.display import HTML, display\n",
    "    import tabulate\n",
    "    \n",
    "    query = process_text(query)\n",
    "    print(\"Extracting features...\")\n",
    "    query_vec = get_features(query)[0].ravel()\n",
    "    res = []\n",
    "    for i, d in enumerate(data):\n",
    "        qvec = vectors[i].ravel()\n",
    "        sim = round(cosine_similarity(query_vec, qvec)*100, 3)\n",
    "        res.append((sim, d[:100], i))\n",
    "    sr  = sorted(res, key=lambda x : x[0], reverse=True)\n",
    "# appending the results in the text file\n",
    "    file1.write(\"\\n\") \n",
    "    file1.write(\"Querry Result :  \\n\")\n",
    "    for i in sr:        \n",
    "        file1.writelines(str(i)) \n",
    "        file1.write(\"\\n\")\n",
    "    #file1.close()\n",
    "    table = sr\n",
    "#     print(sr,\"\\n\")\n",
    "#     print()\n",
    "    df = pd.DataFrame(data=np.array(table), columns=['similarity', 'sentence', 'sent_index'])\n",
    "    return df.head()\n",
    "   # return display(HTML(tabulate.tabulate(table, tablefmt='html')))"
   ]
  },
  {
   "cell_type": "code",
   "execution_count": 31,
   "metadata": {},
   "outputs": [
    {
     "name": "stdout",
     "output_type": "stream",
     "text": [
      "Query :  Tata Group Mediprime mediclaim policy tata group axis bank account verification department Medical Health Policy  \n",
      "\n",
      "Extracting features...\n",
      "INFO:tensorflow:Saver not created because there are no variables in the graph to restore\n"
     ]
    }
   ],
   "source": [
    "file1.write(\"\\n\") \n",
    "file1.write(query1)\n",
    "print(\"Query : \",query1,\"\\n\")\n",
    "q1 = semantic_search(query1, data_processed, BASE_VECTORS)"
   ]
  },
  {
   "cell_type": "code",
   "execution_count": null,
   "metadata": {
    "collapsed": true
   },
   "outputs": [],
   "source": [
    "file1.write(\"\\n\") \n",
    "file1.write(query2)\n",
    "print(\"Query : \",query2,\"\\n\")\n",
    "semantic_search(query2, data_processed, BASE_VECTORS)"
   ]
  },
  {
   "cell_type": "code",
   "execution_count": null,
   "metadata": {
    "collapsed": true
   },
   "outputs": [],
   "source": [
    "file1.write(\"\\n\") \n",
    "file1.write(query3)\n",
    "print(\"Query : \",query3,\"\\n\")\n",
    "semantic_search(query3, data_processed, BASE_VECTORS)"
   ]
  },
  {
   "cell_type": "code",
   "execution_count": null,
   "metadata": {
    "collapsed": true
   },
   "outputs": [],
   "source": [
    "file1.write(\"\\n\") \n",
    "file1.write(query4)\n",
    "print(\"Query : \",query4,\"\\n\")\n",
    "semantic_search(query4, data_processed, BASE_VECTORS)"
   ]
  },
  {
   "cell_type": "code",
   "execution_count": null,
   "metadata": {
    "collapsed": true
   },
   "outputs": [],
   "source": [
    "file1.write(\"\\n\") \n",
    "file1.write(query5)\n",
    "print(\"Query : \",query5,\"\\n\")\n",
    "semantic_search(query5, data_processed, BASE_VECTORS)"
   ]
  },
  {
   "cell_type": "code",
   "execution_count": 1,
   "metadata": {
    "collapsed": true
   },
   "outputs": [],
   "source": []
  },
  {
   "cell_type": "code",
   "execution_count": null,
   "metadata": {
    "collapsed": true
   },
   "outputs": [],
   "source": []
  }
 ],
 "metadata": {
  "kernelspec": {
   "display_name": "Python 3",
   "language": "python",
   "name": "python3"
  },
  "language_info": {
   "codemirror_mode": {
    "name": "ipython",
    "version": 3
   },
   "file_extension": ".py",
   "mimetype": "text/x-python",
   "name": "python",
   "nbconvert_exporter": "python",
   "pygments_lexer": "ipython3",
   "version": "3.6.8"
  }
 },
 "nbformat": 4,
 "nbformat_minor": 2
}
