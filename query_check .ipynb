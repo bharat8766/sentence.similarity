{
 "cells": [
  {
   "cell_type": "code",
   "execution_count": 1,
   "metadata": {
    "collapsed": true
   },
   "outputs": [],
   "source": [
    "import tensorflow_hub as hub\n",
    "import tensorflow as tf\n",
    "import pandas as pd\n",
    "import numpy as np\n",
    "import nltk\n",
    "import time\n",
    "import re\n",
    "import os"
   ]
  },
  {
   "cell_type": "code",
   "execution_count": 2,
   "metadata": {},
   "outputs": [
    {
     "data": {
      "text/html": [
       "<style type=\"text/css\">\n",
       "table.dataframe td, table.dataframe th {\n",
       "    border: 1px  black solid !important;\n",
       "  color: black !important;\n",
       "}"
      ],
      "text/plain": [
       "<IPython.core.display.HTML object>"
      ]
     },
     "metadata": {},
     "output_type": "display_data"
    }
   ],
   "source": [
    "%%HTML\n",
    "<style type=\"text/css\">\n",
    "table.dataframe td, table.dataframe th {\n",
    "    border: 1px  black solid !important;\n",
    "  color: black !important;\n",
    "}"
   ]
  },
  {
   "cell_type": "code",
   "execution_count": 3,
   "metadata": {},
   "outputs": [
    {
     "name": "stdout",
     "output_type": "stream",
     "text": [
      "INFO:tensorflow:Using /tmp/tfhub_modules to cache modules.\n",
      "INFO:tensorflow:Downloading TF-Hub Module 'https://tfhub.dev/google/universal-sentence-encoder-large/3'.\n",
      "INFO:tensorflow:Downloading https://tfhub.dev/google/universal-sentence-encoder-large/3: 200.00MB\n",
      "INFO:tensorflow:Downloading https://tfhub.dev/google/universal-sentence-encoder-large/3: 390.00MB\n",
      "INFO:tensorflow:Downloading https://tfhub.dev/google/universal-sentence-encoder-large/3: 530.00MB\n",
      "INFO:tensorflow:Downloading https://tfhub.dev/google/universal-sentence-encoder-large/3: 750.00MB\n",
      "INFO:tensorflow:Downloaded https://tfhub.dev/google/universal-sentence-encoder-large/3, Total size: 810.60MB\n",
      "INFO:tensorflow:Downloaded TF-Hub Module 'https://tfhub.dev/google/universal-sentence-encoder-large/3'.\n",
      "69.14332580566406\n"
     ]
    }
   ],
   "source": [
    "# tensroflow hub module for Universal sentence Encoder\n",
    "module_url = \"https://tfhub.dev/google/universal-sentence-encoder-large/3\" \n",
    "#@param [\"https://tfhub.dev/google/universal-sentence-encoder/2\", \n",
    "#\"https://tfhub.dev/google/universal-sentence-encoder-large/3\"]\n",
    "start = time.time()\n",
    "embed = hub.Module(module_url)\n",
    "end = time.time()\n",
    "print(end-start)"
   ]
  },
  {
   "cell_type": "code",
   "execution_count": null,
   "metadata": {
    "collapsed": true
   },
   "outputs": [],
   "source": [
    "path  = \"path/to/text_file/\"\n",
    "with open(path+\"text_filename\",'r') as f:\n",
    "    text  = f.read()\n",
    "print(f)"
   ]
  },
  {
   "cell_type": "code",
   "execution_count": 8,
   "metadata": {
    "collapsed": true
   },
   "outputs": [],
   "source": [
    "path = \"/home/rahul/Downloads/bharat/downloads/\""
   ]
  },
  {
   "cell_type": "code",
   "execution_count": 9,
   "metadata": {},
   "outputs": [
    {
     "name": "stdout",
     "output_type": "stream",
     "text": [
      "\n",
      " Hello Very Good Evening Sir Muqim Talking to Axis Bank, I have a feeling and a renewable country. Sir, I am very welcome. In your Axis Bank family you had opened your account, well, who is in Worli Bombay Branch Wright, I hope to give you information about this call, bank ATM card check book has become a male, mobile number is registered with your registered account. For the entry of such messages which will be free in the first charge, then it is charged. ₹ With a 15-month account you can use Sir Net Banking and Mobile Application, I would like to know that the mobile phone you are using Is there any smart phone&#39;s keypad phone in its own right now, so much is the keypad but spoiled. If the smartphone is spoiled then I will send it downloaded from the application Check your balance at any time, recharge the bill payment transfer. You can sit at home and it is free improvement that you have to keep in the tent house and at the ATM card, Delhi can give you 4000 petrol. And 500,000 Personal Accident Insurance Company is right. There was no problem in the opening of the account of hope. If you do not get any problem, then you will find out Whatever your deposit made, then you have secured. It is okay to expect me to come to your bank account when there is no problem, you can rate your credit rating down to 1 Crore Bank in which 1 will be the lowest And how much rate you would like to give 500 to the request. Hello manish jee, you are good at bank care service. You can give 5 numbers. If you feel bad, then you can give a phone number, Would like to give shayari put two thank you so you can weave a Miss call. Between 1 to 5 you should weave the school, how much would you want to lay down your Halo Rajesh call, which I will give you information. Staying busy in a little work told me you did not understand the thing about yourself Bread office calls: Between 1 and 5, you will dance at the rate of school rate If Axis Bank customer customer opens your new account, then you are given a Tata AIG sports policy on behalf of the bank in the night of that account. Your family head for your health in which you will cover health cover of 500,000 If there will be any major disease after today, then all your expenses will cover your company Tata AC now, because you are single or mediation you are single And how many children are you have a child from your own. You have a good son. Sonu bhai sir. You are absolutely healthy. Any medicines. You are your son very good now. You did not have any operation in your head. If you happen to be done twice, you will want to do Hindi in the Congress that you all are taking hair for the policy. You are married to your 1988 Aarti Bharti Date of Bar. Do not you have a brewery of debt of birth, you can just tell how old Madame is with you, 1 year 3 years old Madam&#39;s 1991 date of birth is fine and you remember your date of birth as your son. See how much Sir is your date of birth of birth 15 11 2017 2016 All three of the metal people are absolutely healthy. Fit and Fine RITC would like to tell you this patient will get hurt if you ever have any disease due to you Wife, your son is fine and India&#39;s Sir is not admit to any major private hospital hospital for 24 hours and if he gets his treatment, then whatever expenses will be incurred in the hands of the doctor, the fees of the doctor will be the cost of the medicine room bed Charges or whichever tricks you will make, all the expenses of Sara Company, Tata will report Now Private You will not have to pay ₹ 1 from your pocket, it is okay, besides 140 major diseases of alcohol The news will also be heard which the king can take in three to four hours as you would have heard in the stomach, the stone is the operation of the throat, the operation and placement of the appendix. Remember, neither the Congress nor the well will come, then he will also pay all the expenses of the company. And you will also be discharged in 3 to 4 hours. You have to make a head. You just feel ₹ 9050, all three of the three, three of the three are coming, 3000 is fine and little kids know everything. The health of the children is very bad, if the weather changes too quickly, then if it is a difference to them then what will happen peacefully if money is spent on our pockets, then all the money will cover the company? You do not have to decide and like you are a big man in the house, as you know what is the accident of any disease that does not come, then what is the English answer that we can get from our pocket? Even we have deposited the money. For the sake of our children&#39;s studies, there are more expenses for this head home, and if the money goes to our hospital then the money never comes back, then the bank&#39;s Jalser Bank mission And Vision is that whatever is our customer&#39;s money, the most money spent now is spent only in sickness, because there is no limit in it, how much love you are doing throughout the day In the hospital or in one month, how many lakhs of two lakhs of garlic in the hospital would be small in hearing, but if you go from our game then you also know that two lakhs of rupees are earning for a year and there will be papers. With which to give your address Shop number 32 Marwari Fair will be the Police Chowki Shobha Devi Mumbai is your district and State Your Maharashtra is like this and the PIN code number is your phone 0002 5 Price Ranges With you today I will get you receipt and along with the policy paper, you and your wife and your son will come together as a medical card in which your name will be written Avniish Chaurasia and your date of birth. 25 11 1988 Voter Card will be your amount of 5 lakhs. If you want to get treatment from any major private herbs in Mumbai&#39;s house, then just look for yourself. Your 500,000 treatment will be completely free. Sir, whatever your conversation was going to be for my security, a record is going off. It is okay if you want to hear again and again, you will call 2670. And whoever has talked with you is fine, you can take a copy of it. Your auspicious name Urmila Urmila Chaurasia, son of the son of the curse son&#39;s name also named Shroff&#39;s son Priyesh Rishyesh Priyash Priyesh Priyash Priyash is his activity as you know it is not news, Drinking alcohol and driving to suicide. Suffering the thickening of the medicine. The battle of HIV AIDS will be rioting or taking ill will not cover Eligal activity. Apart from this, any small or major disease has happened due to Chikungunya typhoid malaria dengue, in its recording They are admit that none of the three wants to see any more. All the expenses of Sara will be reported by the company. Your Emergency Case will ever take the service of the ambulance for his son for his son, even then I am Rosa. Expenditure ₹ 2000 will cover the company only. It is fine that you will transfer it. Okay, then the full name of the seat confirmation on your date of birth is fine and Halo is not doing, as you have All three people are absolutely healthy Do not use any medicines right or you will have to tell them together. How much coverage is you getting in the policy, how big is Sharma how much you want to pay in 5 years? For your lion and then how did you feel about service, you did not see any problem right then who will come from the world bank and after your permission A ripe policy will be started on the road and you can take full life till you are alive 7 years 70 years 90 years 6 Send a message that the wife and your son is your lion after any of the three of today Ill, you have three people, three people, if one of the three goats treated the goat&#39;s 50,000, the fifth of your 50,000 is being given to the market, then you have told that you have given complete treatment. If you got 500,000 cures in 500,000 cycles and how much did you pay Sir, ₹ 9050, then you will be able to benefit from it. The amount of money that will save you will cost you the cost of the doctor&#39;s medicine. Room rent is the whole of the country. The cost is the company&#39;s worker that you are okay that you will meet your tears in all the written days, you can read well, okay, then I am transferring your call to 102 minutes Hello, I&#39;m talking about hello good evening verification department, my airtel lesson number 1, 99239, what would I like to thank Dinesh Chaurasia ji Sony all I would like to tell to my children in this group, Sir, what you and me are talking about It is recording that in the future if you have to take any recordings you can take the Tata AIG toll free number 18000. Okay, your chaurasiya ji Your wife is Urmila Chaurasia and your child is the love of Sreasand Chaurasia and night, and the love of these three goes to 9004. Therefore, I would like to go on a call for 1 year. All three of you are absolutely fit and fine, there is no disease of any kind, brother Otherwise, it is a good thing to know that you would like to mention some of the benefits of recording this policy. If you are your wife, your child is none of the three Any illness more than ante is admited in the hospital because of accident. Whatever the expenditure is spent in it, Tata AIG calls 30 days before admission in the hospital or 60 days after discharge, whatever expenses in SIM disease It happens that Tata AIG does not notice Sir 140 disease is such that the treatment takes place in 2 to 4 hours as if the cataract operation of cataract is spent on it and Tata AIG calls you okay, your policy starts in 48 hours of making money, along with that your Accidental Benefit starts. The first 30-day waiting period is for any illness claim 710 days Documents will be sent to your address But get delivered and how you get Income Tax Benefit ₹ Can be up to 25000 subject matter of which I have given you the information I For more information, you can read the policy document. Please confirm your details. Your name is Manish Chaurasia. Your mobile number is 97020 84611 Date of birth is 25 November 1988 You use your email ID. Now your address number is Police Chowki and Prabhadevi. Mumbai is your City and Distinct State State of Maharashtra Pin Code of 4000 His name is Urmila Chaurasia, which is your wife Ummila Chaurasia ji&#39;s Nomin Mother of Manish Chaurasia ji, who gave her husband&#39;s date of birth as Jan 1, 1991, on January 1, 1991, her name was Manish Chaurasiya, whom you mentioned as your premium amount, sometime from November 15, 2016, on the date of birth of the market, which is deducted on the same call. Confirm for the whole 1 year, how many had told that what I said was that I am posting in the 9085 G Sat Shri Akal to the payment process, I would like to know that you Talking to the phone Which phone is the touch of the button Touch how many buttons are bad to get screwed. Sir no one is the name of your phone, loudspeaker on and on. Turn on the loudspeaker of the phone and you turn on the loud speaker. This message will come on your phone. From the bank&#39;s side there will be four numbers of mathematics. Remember it will be okay if it is not going to send messages to your phone. Let the line tell that all these senders will see the candy on your phone. An alcoholic has received a message on your phone. From which bank you are receiving my voice? This message came on your phone. From one bank to another, Remember the number is the message. Sir, you got my voice. Sir, you are getting my voice. If you got a Bluetooth rope message then Sir, you get the message. Why can you just read the message. I can hear the message. My voice is coming. Okay, Sir, it will take 50 minutes for just 1 minute. Talk to me hardly. Sir, read the message by cutting off the phone. I also call you. The new input receipt for the boy will enter your TT nine sonwati Please Jyoti You have read your message. In the jurisdiction, only 31 seconds of bullets are famous. Read the message from you. It is okay how long after you call back, see message like Lease. A input 3 Please enter the OTP you&#39;re having my voice you&#39;re having my voice you have my voice seeing Sir My message came\n",
      "\n"
     ]
    }
   ],
   "source": [
    "with open(path+'9.txt', 'r') as data:\n",
    "  tr = data.read()\n",
    "print(tr)"
   ]
  },
  {
   "cell_type": "code",
   "execution_count": null,
   "metadata": {
    "collapsed": true
   },
   "outputs": [],
   "source": [
    "# filename = input_filename+'.txt'\n",
    "# with open(filename, 'r') as data:\n",
    "#   tr = data.read()\n",
    "# tr = tr.replace('\\n','')"
   ]
  },
  {
   "cell_type": "code",
   "execution_count": 7,
   "metadata": {},
   "outputs": [
    {
     "name": "stdout",
     "output_type": "stream",
     "text": [
      "1.3431565761566162\n"
     ]
    }
   ],
   "source": [
    "tr = tr.replace('\\n','')\n"
   ]
  },
  {
   "cell_type": "code",
   "execution_count": 8,
   "metadata": {
    "collapsed": true
   },
   "outputs": [],
   "source": [
    "query1 = \"Tata Group Mediprime mediclaim policy tata group axis bank account verification department Medical Health Policy \"\n",
    "query2 = \"insured Person suffers an Illness or Accident during the Policy period that requires Insured Person’s Hospitalization as an inpatient,\"\n",
    "query3 = \"Day Care Procedure hospital beds Day Care procedures are surgeries or procedures which are undertaken by insured person as an inpatient for less than 24 hours in a hospital.\"\n",
    "query4 = \"Critical Illness Cover Cancer heart attack kidney failure bone marrow transplantation paralysis stroke\"\n",
    "query5 = \"Pre post hospitalization benefit includes medical Expenses incurred within 30 days immediately before the Insured Person was hospitalized  60 days immediately\"\n",
    "query =  \"I called you for Tata Group Medical Health Policy \""
   ]
  },
  {
   "cell_type": "code",
   "execution_count": 89,
   "metadata": {
    "scrolled": true
   },
   "outputs": [
    {
     "name": "stdout",
     "output_type": "stream",
     "text": [
      "0) Hello Very Good Evening Sir Muqim Talking to Axis Bank, I have a feeling and a renewable country\n",
      "1) Sir, I am very welcome\n",
      "2) In your Axis Bank family you had opened your account, well, who is in Worli Bombay Branch Wright, I hope to give you information about this call, bank ATM card check book has become a male, mobile number is registered with your registered account\n",
      "3) For the entry of such messages which will be free in the first charge, then it is charged\n",
      "4) ₹ With a 15-month account you can use Sir Net Banking and Mobile Application, I would like to know that the mobile phone you are using Is there any smart phone&#39;s keypad phone in its own right now, so much is the keypad but spoiled\n",
      "5) If the smartphone is spoiled then I will send it downloaded from the application Check your balance at any time, recharge the bill payment transfer\n",
      "6) You can sit at home and it is free improvement that you have to keep in the tent house and at the ATM card, Delhi can give you 4000 petrol\n",
      "7) And 500,000 Personal Accident Insurance Company is right\n",
      "8) There was no problem in the opening of the account of hope\n",
      "9) If you do not get any problem, then you will find out Whatever your deposit made, then you have secured\n",
      "10) It is okay to expect me to come to your bank account when there is no problem, you can rate your credit rating down to 1 Crore Bank in which 1 will be the lowest And how much rate you would like to give 500 to the request\n",
      "11) Hello manish jee, you are good at bank care service\n",
      "12) You can give 5 numbers\n",
      "13) If you feel bad, then you can give a phone number, Would like to give shayari put two thank you so you can weave a Miss call\n",
      "14) Between 1 to 5 you should weave the school, how much would you want to lay down your Halo Rajesh call, which I will give you information\n",
      "15) Staying busy in a little work told me you did not understand the thing about yourself Bread office calls: Between 1 and 5, you will dance at the rate of school rate If Axis Bank customer customer opens your new account, then you are given a Tata AIG sports policy on behalf of the bank in the night of that account\n",
      "16) Your family head for your health in which you will cover health cover of 500,000 If there will be any major disease after today, then all your expenses will cover your company Tata AC now, because you are single or mediation you are single And how many children are you have a child from your own\n",
      "17) You have a good son\n",
      "18) Sonu bhai sir\n",
      "19) You are absolutely healthy\n",
      "20) Any medicines\n",
      "21) You are your son very good now\n",
      "22) You did not have any operation in your head\n",
      "23) If you happen to be done twice, you will want to do Hindi in the Congress that you all are taking hair for the policy\n",
      "24) You are married to your 1988 Aarti Bharti Date of Bar\n",
      "25) Do not you have a brewery of debt of birth, you can just tell how old Madame is with you, 1 year 3 years old Madam&#39;s 1991 date of birth is fine and you remember your date of birth as your son\n",
      "26) See how much Sir is your date of birth of birth 15 11 2017 2016 All three of the metal people are absolutely healthy\n",
      "27) Fit and Fine RITC would like to tell you this patient will get hurt if you ever have any disease due to you Wife, your son is fine and India&#39;s Sir is not admit to any major private hospital hospital for 24 hours and if he gets his treatment, then whatever expenses will be incurred in the hands of the doctor, the fees of the doctor will be the cost of the medicine room bed Charges or whichever tricks you will make, all the expenses of Sara Company, Tata will report Now Private You will not have to pay ₹ 1 from your pocket, it is okay, besides 140 major diseases of alcohol The news will also be heard which the king can take in three to four hours as you would have heard in the stomach, the stone is the operation of the throat, the operation and placement of the appendix\n",
      "28) Remember, neither the Congress nor the well will come, then he will also pay all the expenses of the company\n",
      "29) And you will also be discharged in 3 to 4 hours\n",
      "30) You have to make a head\n",
      "31) You just feel ₹ 9050, all three of the three, three of the three are coming, 3000 is fine and little kids know everything\n",
      "32) The health of the children is very bad, if the weather changes too quickly, then if it is a difference to them then what will happen peacefully if money is spent on our pockets, then all the money will cover the company\n",
      "33) You do not have to decide and like you are a big man in the house, as you know what is the accident of any disease that does not come, then what is the English answer that we can get from our pocket\n",
      "34) Even we have deposited the money\n",
      "35) For the sake of our children&#39;s studies, there are more expenses for this head home, and if the money goes to our hospital then the money never comes back, then the bank&#39;s Jalser Bank mission And Vision is that whatever is our customer&#39;s money, the most money spent now is spent only in sickness, because there is no limit in it, how much love you are doing throughout the day In the hospital or in one month, how many lakhs of two lakhs of garlic in the hospital would be small in hearing, but if you go from our game then you also know that two lakhs of rupees are earning for a year and there will be papers\n",
      "36) With which to give your address Shop number 32 Marwari Fair will be the Police Chowki Shobha Devi Mumbai is your district and State Your Maharashtra is like this and the PIN code number is your phone 0002 5 Price Ranges With you today I will get you receipt and along with the policy paper, you and your wife and your son will come together as a medical card in which your name will be written Avniish Chaurasia and your date of birth\n",
      "37) 25 11 1988 Voter Card will be your amount of 5 lakhs\n",
      "38) If you want to get treatment from any major private herbs in Mumbai&#39;s house, then just look for yourself\n",
      "39) Your 500,000 treatment will be completely free\n",
      "40) Sir, whatever your conversation was going to be for my security, a record is going off\n",
      "41) It is okay if you want to hear again and again, you will call 2670\n",
      "42) And whoever has talked with you is fine, you can take a copy of it\n",
      "43) Your auspicious name Urmila Urmila Chaurasia, son of the son of the curse son&#39;s name also named Shroff&#39;s son Priyesh Rishyesh Priyash Priyesh Priyash Priyash is his activity as you know it is not news, Drinking alcohol and driving to suicide\n",
      "44) Suffering the thickening of the medicine\n",
      "45) The battle of HIV AIDS will be rioting or taking ill will not cover Eligal activity\n",
      "46) Apart from this, any small or major disease has happened due to Chikungunya typhoid malaria dengue, in its recording They are admit that none of the three wants to see any more\n",
      "47) All the expenses of Sara will be reported by the company\n",
      "48) Your Emergency Case will ever take the service of the ambulance for his son for his son, even then I am Rosa\n",
      "49) Expenditure ₹ 2000 will cover the company only\n",
      "50) It is fine that you will transfer it\n",
      "51) Okay, then the full name of the seat confirmation on your date of birth is fine and Halo is not doing, as you have All three people are absolutely healthy Do not use any medicines right or you will have to tell them together\n",
      "52) How much coverage is you getting in the policy, how big is Sharma how much you want to pay in 5 years\n",
      "53) For your lion and then how did you feel about service, you did not see any problem right then who will come from the world bank and after your permission A ripe policy will be started on the road and you can take full life till you are alive 7 years 70 years 90 years 6 Send a message that the wife and your son is your lion after any of the three of today Ill, you have three people, three people, if one of the three goats treated the goat&#39;s 50,000, the fifth of your 50,000 is being given to the market, then you have told that you have given complete treatment\n",
      "54) If you got 500,000 cures in 500,000 cycles and how much did you pay Sir, ₹ 9050, then you will be able to benefit from it\n",
      "55) The amount of money that will save you will cost you the cost of the doctor&#39;s medicine\n",
      "56) Room rent is the whole of the country\n",
      "57) The cost is the company&#39;s worker that you are okay that you will meet your tears in all the written days, you can read well, okay, then I am transferring your call to 102 minutes Hello, I&#39;m talking about hello good evening verification department, my airtel lesson number 1, 99239, what would I like to thank Dinesh Chaurasia ji Sony all I would like to tell to my children in this group, Sir, what you and me are talking about It is recording that in the future if you have to take any recordings you can take the Tata AIG toll free number 18000\n",
      "58) Okay, your chaurasiya ji Your wife is Urmila Chaurasia and your child is the love of Sreasand Chaurasia and night, and the love of these three goes to 9004\n",
      "59) Therefore, I would like to go on a call for 1 year\n",
      "60) All three of you are absolutely fit and fine, there is no disease of any kind, brother Otherwise, it is a good thing to know that you would like to mention some of the benefits of recording this policy\n",
      "61) If you are your wife, your child is none of the three Any illness more than ante is admited in the hospital because of accident\n",
      "62) Whatever the expenditure is spent in it, Tata AIG calls 30 days before admission in the hospital or 60 days after discharge, whatever expenses in SIM disease It happens that Tata AIG does not notice Sir 140 disease is such that the treatment takes place in 2 to 4 hours as if the cataract operation of cataract is spent on it and Tata AIG calls you okay, your policy starts in 48 hours of making money, along with that your Accidental Benefit starts\n",
      "63) The first 30-day waiting period is for any illness claim 710 days Documents will be sent to your address But get delivered and how you get Income Tax Benefit ₹ Can be up to 25000 subject matter of which I have given you the information I For more information, you can read the policy document\n",
      "64) Please confirm your details\n",
      "65) Your name is Manish Chaurasia\n",
      "66) Your mobile number is 97020 84611 Date of birth is 25 November 1988 You use your email ID\n",
      "67) Now your address number is Police Chowki and Prabhadevi\n",
      "68) Mumbai is your City and Distinct State State of Maharashtra Pin Code of 4000 His name is Urmila Chaurasia, which is your wife Ummila Chaurasia ji&#39;s Nomin Mother of Manish Chaurasia ji, who gave her husband&#39;s date of birth as Jan 1, 1991, on January 1, 1991, her name was Manish Chaurasiya, whom you mentioned as your premium amount, sometime from November 15, 2016, on the date of birth of the market, which is deducted on the same call\n",
      "69) Confirm for the whole 1 year, how many had told that what I said was that I am posting in the 9085 G Sat Shri Akal to the payment process, I would like to know that you Talking to the phone Which phone is the touch of the button Touch how many buttons are bad to get screwed\n",
      "70) Sir no one is the name of your phone, loudspeaker on and on\n",
      "71) Turn on the loudspeaker of the phone and you turn on the loud speaker\n",
      "72) This message will come on your phone\n",
      "73) From the bank&#39;s side there will be four numbers of mathematics\n",
      "74) Remember it will be okay if it is not going to send messages to your phone\n",
      "75) Let the line tell that all these senders will see the candy on your phone\n",
      "76) An alcoholic has received a message on your phone\n",
      "77) From which bank you are receiving my voice\n",
      "78) This message came on your phone\n",
      "79) From one bank to another, Remember the number is the message\n",
      "80) Sir, you got my voice\n",
      "81) Sir, you are getting my voice\n",
      "82) If you got a Bluetooth rope message then Sir, you get the message\n",
      "83) Why can you just read the message\n",
      "84) I can hear the message\n",
      "85) My voice is coming\n",
      "86) Okay, Sir, it will take 50 minutes for just 1 minute\n",
      "87) Talk to me hardly\n",
      "88) Sir, read the message by cutting off the phone\n",
      "89) I also call you\n",
      "90) The new input receipt for the boy will enter your TT nine sonwati Please Jyoti You have read your message\n",
      "91) In the jurisdiction, only 31 seconds of bullets are famous\n",
      "92) Read the message from you\n",
      "93) It is okay how long after you call back, see message like Lease\n",
      "94) A input 3 Please enter the OTP you&#39;re having my voice you&#39;re having my voice you have my voice seeing Sir My message came\n"
     ]
    }
   ],
   "source": [
    "\n",
    "if __name__ == '__main__':\n",
    "    p = tr\n",
    "    nlst = []\n",
    "    from IPython.display import HTML, display\n",
    "    import tabulate\n",
    "    sentences = splitParagraphIntoSentences(p)\n",
    "    i = 0\n",
    "    for s in sentences:\n",
    "        \n",
    "        #print(i)\n",
    "        k = str(i) + \") \" + s.strip()\n",
    "        i = i+1\n",
    "        #nlst.append[k]\n",
    "#         table  = k\n",
    "#         display(HTML(tabulate.tabulate(table, tablefmt='html')))\n",
    "        file1.write(\"\\n\") \n",
    "            \n",
    "        file1.writelines(k) \n",
    "        file1.write(\"\\n\")\n",
    "        print (k)\n",
    "#       \n",
    "#     s.strip()"
   ]
  },
  {
   "cell_type": "code",
   "execution_count": 90,
   "metadata": {
    "collapsed": true
   },
   "outputs": [],
   "source": [
    "#for text embeddings : \n",
    "def get_features(texts):\n",
    "    if type(texts) is str:\n",
    "        texts = [texts]\n",
    "    with tf.Session() as sess:\n",
    "        sess.run([tf.global_variables_initializer(), tf.tables_initializer()])\n",
    "        return sess.run(embed(texts))"
   ]
  },
  {
   "cell_type": "code",
   "execution_count": 91,
   "metadata": {
    "collapsed": true
   },
   "outputs": [],
   "source": [
    "#preprocessing the text via removing stop words and some other symbols\n",
    "def remove_stopwords(stop_words, tokens):\n",
    "    res = []\n",
    "    for token in tokens:\n",
    "        if not token in stop_words:\n",
    "            res.append(token)\n",
    "    return res\n",
    "\n",
    "def process_text(text):\n",
    "    text = text.encode('ascii', errors='ignore').decode()\n",
    "    text = text.lower()\n",
    "    text = re.sub(r'http\\S+', ' ', text)\n",
    "    text = re.sub(r'#+', ' ', text )\n",
    "    text = re.sub(r'@[A-Za-z0-9]+', ' ', text)\n",
    "    text = re.sub(r\"([A-Za-z]+)'s\", r\"\\1 is\", text)\n",
    "    #text = re.sub(r\"\\'s\", \" \", text)\n",
    "    text = re.sub(r\"\\'ve\", \" have \", text)\n",
    "    text = re.sub(r\"won't\", \"will not \", text)\n",
    "    text = re.sub(r\"isn't\", \"is not \", text)\n",
    "    text = re.sub(r\"can't\", \"can not \", text)\n",
    "    text = re.sub(r\"n't\", \" not \", text)\n",
    "    text = re.sub(r\"i'm\", \"i am \", text)\n",
    "    text = re.sub(r\"\\'re\", \" are \", text)\n",
    "    text = re.sub(r\"\\'d\", \" would \", text)\n",
    "    text = re.sub(r\"\\'ll\", \" will \", text)\n",
    "    text = re.sub('\\W', ' ', text)\n",
    "    text = re.sub(r'\\d+', ' ', text)\n",
    "    text = re.sub('\\s+', ' ', text)\n",
    "    text = text.strip()\n",
    "    return text\n",
    "\n",
    "def lemmatize(tokens):\n",
    "    lemmatizer = nltk.stem.WordNetLemmatizer()\n",
    "    lemma_list = []\n",
    "    for token in tokens:\n",
    "        lemma = lemmatizer.lemmatize(token, 'v')\n",
    "        if lemma == token:\n",
    "            lemma = lemmatizer.lemmatize(token)\n",
    "        lemma_list.append(lemma)\n",
    "    # return [ lemmatizer.lemmatize(token, 'v') for token in tokens ]\n",
    "    return lemma_list\n",
    "\n",
    "\n",
    "def process_all(text):\n",
    "    text = process_text(text)\n",
    "    return ' '.join(remove_stopwords(stop_words, text.split()))\n"
   ]
  },
  {
   "cell_type": "code",
   "execution_count": 92,
   "metadata": {
    "collapsed": true
   },
   "outputs": [],
   "source": [
    "data = sentences\n",
    "data_processed = list(map(process_text, data))"
   ]
  },
  {
   "cell_type": "code",
   "execution_count": 93,
   "metadata": {},
   "outputs": [
    {
     "name": "stdout",
     "output_type": "stream",
     "text": [
      "INFO:tensorflow:Saver not created because there are no variables in the graph to restore\n"
     ]
    },
    {
     "data": {
      "text/plain": [
       "(95, 512)"
      ]
     },
     "execution_count": 93,
     "metadata": {},
     "output_type": "execute_result"
    }
   ],
   "source": [
    "#creating embedding vectors of the data\n",
    "BASE_VECTORS = get_features(data)\n",
    "BASE_VECTORS.shape"
   ]
  },
  {
   "cell_type": "code",
   "execution_count": 94,
   "metadata": {
    "collapsed": true
   },
   "outputs": [],
   "source": [
    "#cosine similarity metric for finding the semantic similarity between the splitted sentences and the phrase/query \n",
    "# that is needed to be checked.\n",
    "def cosine_similarity(v1, v2):\n",
    "    mag1 = np.linalg.norm(v1)\n",
    "    mag2 = np.linalg.norm(v2)\n",
    "    if (not mag1) or (not mag2):\n",
    "        return 0\n",
    "    return np.dot(v1, v2) / (mag1 * mag2)"
   ]
  },
  {
   "cell_type": "code",
   "execution_count": 95,
   "metadata": {
    "collapsed": true
   },
   "outputs": [],
   "source": [
    "def test_similarity(text1, text2):\n",
    "    vec1 = get_features(text1)[0]\n",
    "    vec2 = get_features(text2)[0]\n",
    "    print(vec1.shape)\n",
    "    return cosine_similarity(vec1, vec2)"
   ]
  },
  {
   "cell_type": "code",
   "execution_count": 96,
   "metadata": {
    "collapsed": true
   },
   "outputs": [],
   "source": [
    "def semantic_search(query, data, vectors):\n",
    "    from IPython.display import HTML, display\n",
    "    import tabulate\n",
    "    \n",
    "    query = process_text(query)\n",
    "    print(\"Extracting features...\")\n",
    "    query_vec = get_features(query)[0].ravel()\n",
    "    res = []\n",
    "    for i, d in enumerate(data):\n",
    "        qvec = vectors[i].ravel()\n",
    "        sim = cosine_similarity(query_vec, qvec)*100\n",
    "        res.append((sim, d[:100], i))\n",
    "    sr  = sorted(res, key=lambda x : x[0], reverse=True)\n",
    "# appending the results in the text file\n",
    "    file1.write(\"\\n\") \n",
    "    file1.write(\"Querry Result :  \\n\")\n",
    "    for i in sr:        \n",
    "        file1.writelines(str(i)) \n",
    "        file1.write(\"\\n\")\n",
    "    #file1.close()\n",
    "    table = sr\n",
    "#     print(sr,\"\\n\")\n",
    "#     print()\n",
    "    df = pd.DataFrame(data=np.array(table), columns=['similarity', 'sentence', 'sent_index'])\n",
    "    return df.head()\n",
    "   # return display(HTML(tabulate.tabulate(table, tablefmt='html')))"
   ]
  },
  {
   "cell_type": "code",
   "execution_count": 97,
   "metadata": {},
   "outputs": [
    {
     "name": "stdout",
     "output_type": "stream",
     "text": [
      "Query :  Tata Group Mediprime mediclaim policy tata group axis bank account verification department Medical Health Policy  \n",
      "\n",
      "Extracting features...\n",
      "INFO:tensorflow:Saver not created because there are no variables in the graph to restore\n"
     ]
    },
    {
     "data": {
      "text/html": [
       "<div>\n",
       "<style>\n",
       "    .dataframe thead tr:only-child th {\n",
       "        text-align: right;\n",
       "    }\n",
       "\n",
       "    .dataframe thead th {\n",
       "        text-align: left;\n",
       "    }\n",
       "\n",
       "    .dataframe tbody tr th {\n",
       "        vertical-align: top;\n",
       "    }\n",
       "</style>\n",
       "<table border=\"1\" class=\"dataframe\">\n",
       "  <thead>\n",
       "    <tr style=\"text-align: right;\">\n",
       "      <th></th>\n",
       "      <th>similarity</th>\n",
       "      <th>sentence</th>\n",
       "      <th>sent_index</th>\n",
       "    </tr>\n",
       "  </thead>\n",
       "  <tbody>\n",
       "    <tr>\n",
       "      <th>0</th>\n",
       "      <td>66.3726568222</td>\n",
       "      <td>hello manish jee you are good at bank care ser...</td>\n",
       "      <td>11</td>\n",
       "    </tr>\n",
       "    <tr>\n",
       "      <th>1</th>\n",
       "      <td>61.8227124214</td>\n",
       "      <td>expenditure will cover the company only</td>\n",
       "      <td>49</td>\n",
       "    </tr>\n",
       "    <tr>\n",
       "      <th>2</th>\n",
       "      <td>61.4817798138</td>\n",
       "      <td>in your axis bank family you had opened your a...</td>\n",
       "      <td>2</td>\n",
       "    </tr>\n",
       "    <tr>\n",
       "      <th>3</th>\n",
       "      <td>56.4727604389</td>\n",
       "      <td>whatever the expenditure is spent in it tata a...</td>\n",
       "      <td>62</td>\n",
       "    </tr>\n",
       "    <tr>\n",
       "      <th>4</th>\n",
       "      <td>55.9310972691</td>\n",
       "      <td>it is okay to expect me to come to your bank a...</td>\n",
       "      <td>10</td>\n",
       "    </tr>\n",
       "  </tbody>\n",
       "</table>\n",
       "</div>"
      ],
      "text/plain": [
       "      similarity                                           sentence sent_index\n",
       "0  66.3726568222  hello manish jee you are good at bank care ser...         11\n",
       "1  61.8227124214            expenditure will cover the company only         49\n",
       "2  61.4817798138  in your axis bank family you had opened your a...          2\n",
       "3  56.4727604389  whatever the expenditure is spent in it tata a...         62\n",
       "4  55.9310972691  it is okay to expect me to come to your bank a...         10"
      ]
     },
     "execution_count": 97,
     "metadata": {},
     "output_type": "execute_result"
    }
   ],
   "source": [
    "file1.write(\"\\n\") \n",
    "file1.write(query1)\n",
    "print(\"Query : \",query1,\"\\n\")\n",
    "semantic_search(query1, data_processed, BASE_VECTORS)"
   ]
  },
  {
   "cell_type": "code",
   "execution_count": 98,
   "metadata": {},
   "outputs": [
    {
     "name": "stdout",
     "output_type": "stream",
     "text": [
      "Query :  insured Person suffers an Illness or Accident during the Policy period that requires Insured Person’s Hospitalization as an inpatient, \n",
      "\n",
      "Extracting features...\n",
      "INFO:tensorflow:Saver not created because there are no variables in the graph to restore\n"
     ]
    },
    {
     "data": {
      "text/html": [
       "<div>\n",
       "<style>\n",
       "    .dataframe thead tr:only-child th {\n",
       "        text-align: right;\n",
       "    }\n",
       "\n",
       "    .dataframe thead th {\n",
       "        text-align: left;\n",
       "    }\n",
       "\n",
       "    .dataframe tbody tr th {\n",
       "        vertical-align: top;\n",
       "    }\n",
       "</style>\n",
       "<table border=\"1\" class=\"dataframe\">\n",
       "  <thead>\n",
       "    <tr style=\"text-align: right;\">\n",
       "      <th></th>\n",
       "      <th>similarity</th>\n",
       "      <th>sentence</th>\n",
       "      <th>sent_index</th>\n",
       "    </tr>\n",
       "  </thead>\n",
       "  <tbody>\n",
       "    <tr>\n",
       "      <th>0</th>\n",
       "      <td>60.0719571114</td>\n",
       "      <td>if you are your wife your child is none of the...</td>\n",
       "      <td>61</td>\n",
       "    </tr>\n",
       "    <tr>\n",
       "      <th>1</th>\n",
       "      <td>59.7656786442</td>\n",
       "      <td>and personal accident insurance company is right</td>\n",
       "      <td>7</td>\n",
       "    </tr>\n",
       "    <tr>\n",
       "      <th>2</th>\n",
       "      <td>57.9338252544</td>\n",
       "      <td>whatever the expenditure is spent in it tata a...</td>\n",
       "      <td>62</td>\n",
       "    </tr>\n",
       "    <tr>\n",
       "      <th>3</th>\n",
       "      <td>57.8066051006</td>\n",
       "      <td>the first day waiting period is for any illnes...</td>\n",
       "      <td>63</td>\n",
       "    </tr>\n",
       "    <tr>\n",
       "      <th>4</th>\n",
       "      <td>54.1663050652</td>\n",
       "      <td>your family head for your health in which you ...</td>\n",
       "      <td>16</td>\n",
       "    </tr>\n",
       "  </tbody>\n",
       "</table>\n",
       "</div>"
      ],
      "text/plain": [
       "      similarity                                           sentence sent_index\n",
       "0  60.0719571114  if you are your wife your child is none of the...         61\n",
       "1  59.7656786442   and personal accident insurance company is right          7\n",
       "2  57.9338252544  whatever the expenditure is spent in it tata a...         62\n",
       "3  57.8066051006  the first day waiting period is for any illnes...         63\n",
       "4  54.1663050652  your family head for your health in which you ...         16"
      ]
     },
     "execution_count": 98,
     "metadata": {},
     "output_type": "execute_result"
    }
   ],
   "source": [
    "file1.write(\"\\n\") \n",
    "file1.write(query2)\n",
    "print(\"Query : \",query2,\"\\n\")\n",
    "semantic_search(query2, data_processed, BASE_VECTORS)"
   ]
  },
  {
   "cell_type": "code",
   "execution_count": 99,
   "metadata": {},
   "outputs": [
    {
     "name": "stdout",
     "output_type": "stream",
     "text": [
      "Query :  Day Care Procedure hospital beds Day Care procedures are surgeries or procedures which are undertaken by insured person as an inpatient for less than 24 hours in a hospital. \n",
      "\n",
      "Extracting features...\n",
      "INFO:tensorflow:Saver not created because there are no variables in the graph to restore\n"
     ]
    },
    {
     "data": {
      "text/html": [
       "<div>\n",
       "<style>\n",
       "    .dataframe thead tr:only-child th {\n",
       "        text-align: right;\n",
       "    }\n",
       "\n",
       "    .dataframe thead th {\n",
       "        text-align: left;\n",
       "    }\n",
       "\n",
       "    .dataframe tbody tr th {\n",
       "        vertical-align: top;\n",
       "    }\n",
       "</style>\n",
       "<table border=\"1\" class=\"dataframe\">\n",
       "  <thead>\n",
       "    <tr style=\"text-align: right;\">\n",
       "      <th></th>\n",
       "      <th>similarity</th>\n",
       "      <th>sentence</th>\n",
       "      <th>sent_index</th>\n",
       "    </tr>\n",
       "  </thead>\n",
       "  <tbody>\n",
       "    <tr>\n",
       "      <th>0</th>\n",
       "      <td>57.4341952801</td>\n",
       "      <td>whatever the expenditure is spent in it tata a...</td>\n",
       "      <td>62</td>\n",
       "    </tr>\n",
       "    <tr>\n",
       "      <th>1</th>\n",
       "      <td>55.7427048683</td>\n",
       "      <td>the first day waiting period is for any illnes...</td>\n",
       "      <td>63</td>\n",
       "    </tr>\n",
       "    <tr>\n",
       "      <th>2</th>\n",
       "      <td>52.4257838726</td>\n",
       "      <td>if you are your wife your child is none of the...</td>\n",
       "      <td>61</td>\n",
       "    </tr>\n",
       "    <tr>\n",
       "      <th>3</th>\n",
       "      <td>50.4910111427</td>\n",
       "      <td>the amount of money that will save you will co...</td>\n",
       "      <td>55</td>\n",
       "    </tr>\n",
       "    <tr>\n",
       "      <th>4</th>\n",
       "      <td>49.0842074156</td>\n",
       "      <td>your family head for your health in which you ...</td>\n",
       "      <td>16</td>\n",
       "    </tr>\n",
       "  </tbody>\n",
       "</table>\n",
       "</div>"
      ],
      "text/plain": [
       "      similarity                                           sentence sent_index\n",
       "0  57.4341952801  whatever the expenditure is spent in it tata a...         62\n",
       "1  55.7427048683  the first day waiting period is for any illnes...         63\n",
       "2  52.4257838726  if you are your wife your child is none of the...         61\n",
       "3  50.4910111427  the amount of money that will save you will co...         55\n",
       "4  49.0842074156  your family head for your health in which you ...         16"
      ]
     },
     "execution_count": 99,
     "metadata": {},
     "output_type": "execute_result"
    }
   ],
   "source": [
    "file1.write(\"\\n\") \n",
    "file1.write(query3)\n",
    "print(\"Query : \",query3,\"\\n\")\n",
    "semantic_search(query3, data_processed, BASE_VECTORS)"
   ]
  },
  {
   "cell_type": "code",
   "execution_count": 100,
   "metadata": {},
   "outputs": [
    {
     "name": "stdout",
     "output_type": "stream",
     "text": [
      "Query :  Critical Illness Cover Cancer heart attack kidney failure bone marrow transplantation paralysis stroke \n",
      "\n",
      "Extracting features...\n",
      "INFO:tensorflow:Saver not created because there are no variables in the graph to restore\n"
     ]
    },
    {
     "data": {
      "text/html": [
       "<div>\n",
       "<style>\n",
       "    .dataframe thead tr:only-child th {\n",
       "        text-align: right;\n",
       "    }\n",
       "\n",
       "    .dataframe thead th {\n",
       "        text-align: left;\n",
       "    }\n",
       "\n",
       "    .dataframe tbody tr th {\n",
       "        vertical-align: top;\n",
       "    }\n",
       "</style>\n",
       "<table border=\"1\" class=\"dataframe\">\n",
       "  <thead>\n",
       "    <tr style=\"text-align: right;\">\n",
       "      <th></th>\n",
       "      <th>similarity</th>\n",
       "      <th>sentence</th>\n",
       "      <th>sent_index</th>\n",
       "    </tr>\n",
       "  </thead>\n",
       "  <tbody>\n",
       "    <tr>\n",
       "      <th>0</th>\n",
       "      <td>57.927775383</td>\n",
       "      <td>if you are your wife your child is none of the...</td>\n",
       "      <td>61</td>\n",
       "    </tr>\n",
       "    <tr>\n",
       "      <th>1</th>\n",
       "      <td>55.4914772511</td>\n",
       "      <td>your family head for your health in which you ...</td>\n",
       "      <td>16</td>\n",
       "    </tr>\n",
       "    <tr>\n",
       "      <th>2</th>\n",
       "      <td>55.2994549274</td>\n",
       "      <td>fit and fine ritc would like to tell you this ...</td>\n",
       "      <td>27</td>\n",
       "    </tr>\n",
       "    <tr>\n",
       "      <th>3</th>\n",
       "      <td>54.6995222569</td>\n",
       "      <td>whatever the expenditure is spent in it tata a...</td>\n",
       "      <td>62</td>\n",
       "    </tr>\n",
       "    <tr>\n",
       "      <th>4</th>\n",
       "      <td>51.536911726</td>\n",
       "      <td>for the sake of our children s studies there a...</td>\n",
       "      <td>35</td>\n",
       "    </tr>\n",
       "  </tbody>\n",
       "</table>\n",
       "</div>"
      ],
      "text/plain": [
       "      similarity                                           sentence sent_index\n",
       "0   57.927775383  if you are your wife your child is none of the...         61\n",
       "1  55.4914772511  your family head for your health in which you ...         16\n",
       "2  55.2994549274  fit and fine ritc would like to tell you this ...         27\n",
       "3  54.6995222569  whatever the expenditure is spent in it tata a...         62\n",
       "4   51.536911726  for the sake of our children s studies there a...         35"
      ]
     },
     "execution_count": 100,
     "metadata": {},
     "output_type": "execute_result"
    }
   ],
   "source": [
    "file1.write(\"\\n\") \n",
    "file1.write(query4)\n",
    "print(\"Query : \",query4,\"\\n\")\n",
    "semantic_search(query4, data_processed, BASE_VECTORS)"
   ]
  },
  {
   "cell_type": "code",
   "execution_count": 101,
   "metadata": {},
   "outputs": [
    {
     "name": "stdout",
     "output_type": "stream",
     "text": [
      "Query :  Pre post hospitalization benefit includes medical Expenses incurred within 30 days immediately before the Insured Person was hospitalized  60 days immediately \n",
      "\n",
      "Extracting features...\n",
      "INFO:tensorflow:Saver not created because there are no variables in the graph to restore\n"
     ]
    },
    {
     "data": {
      "text/html": [
       "<div>\n",
       "<style>\n",
       "    .dataframe thead tr:only-child th {\n",
       "        text-align: right;\n",
       "    }\n",
       "\n",
       "    .dataframe thead th {\n",
       "        text-align: left;\n",
       "    }\n",
       "\n",
       "    .dataframe tbody tr th {\n",
       "        vertical-align: top;\n",
       "    }\n",
       "</style>\n",
       "<table border=\"1\" class=\"dataframe\">\n",
       "  <thead>\n",
       "    <tr style=\"text-align: right;\">\n",
       "      <th></th>\n",
       "      <th>similarity</th>\n",
       "      <th>sentence</th>\n",
       "      <th>sent_index</th>\n",
       "    </tr>\n",
       "  </thead>\n",
       "  <tbody>\n",
       "    <tr>\n",
       "      <th>0</th>\n",
       "      <td>66.2201106548</td>\n",
       "      <td>whatever the expenditure is spent in it tata a...</td>\n",
       "      <td>62</td>\n",
       "    </tr>\n",
       "    <tr>\n",
       "      <th>1</th>\n",
       "      <td>64.6198570728</td>\n",
       "      <td>the first day waiting period is for any illnes...</td>\n",
       "      <td>63</td>\n",
       "    </tr>\n",
       "    <tr>\n",
       "      <th>2</th>\n",
       "      <td>59.440356493</td>\n",
       "      <td>and personal accident insurance company is right</td>\n",
       "      <td>7</td>\n",
       "    </tr>\n",
       "    <tr>\n",
       "      <th>3</th>\n",
       "      <td>57.2511076927</td>\n",
       "      <td>your family head for your health in which you ...</td>\n",
       "      <td>16</td>\n",
       "    </tr>\n",
       "    <tr>\n",
       "      <th>4</th>\n",
       "      <td>56.7612349987</td>\n",
       "      <td>all the expenses of sara will be reported by t...</td>\n",
       "      <td>47</td>\n",
       "    </tr>\n",
       "  </tbody>\n",
       "</table>\n",
       "</div>"
      ],
      "text/plain": [
       "      similarity                                           sentence sent_index\n",
       "0  66.2201106548  whatever the expenditure is spent in it tata a...         62\n",
       "1  64.6198570728  the first day waiting period is for any illnes...         63\n",
       "2   59.440356493   and personal accident insurance company is right          7\n",
       "3  57.2511076927  your family head for your health in which you ...         16\n",
       "4  56.7612349987  all the expenses of sara will be reported by t...         47"
      ]
     },
     "execution_count": 101,
     "metadata": {},
     "output_type": "execute_result"
    }
   ],
   "source": [
    "file1.write(\"\\n\") \n",
    "file1.write(query5)\n",
    "print(\"Query : \",query5,\"\\n\")\n",
    "semantic_search(query5, data_processed, BASE_VECTORS)"
   ]
  },
  {
   "cell_type": "code",
   "execution_count": 110,
   "metadata": {},
   "outputs": [
    {
     "name": "stdout",
     "output_type": "stream",
     "text": [
      "Query :  Tata Group Mediprime mediclaim policy tata group axis bank account verification department Medical Health Policy  \n",
      "\n",
      "Extracting features...\n",
      "INFO:tensorflow:Saver not created because there are no variables in the graph to restore\n",
      "Query :  insured Person suffers an Illness or Accident during the Policy period that requires Insured Person’s Hospitalization as an inpatient, \n",
      "\n",
      "Extracting features...\n",
      "INFO:tensorflow:Saver not created because there are no variables in the graph to restore\n",
      "Query :  Day Care Procedure hospital beds Day Care procedures are surgeries or procedures which are undertaken by insured person as an inpatient for less than 24 hours in a hospital. \n",
      "\n",
      "Extracting features...\n",
      "INFO:tensorflow:Saver not created because there are no variables in the graph to restore\n",
      "Query :  Critical Illness Cover Cancer heart attack kidney failure bone marrow transplantation paralysis stroke \n",
      "\n",
      "Extracting features...\n",
      "INFO:tensorflow:Saver not created because there are no variables in the graph to restore\n",
      "Query :  Pre post hospitalization benefit includes medical Expenses incurred within 30 days immediately before the Insured Person was hospitalized  60 days immediately \n",
      "\n",
      "Extracting features...\n",
      "INFO:tensorflow:Saver not created because there are no variables in the graph to restore\n",
      "Query :  I called you for Tata Group Medical Health Policy  \n",
      "\n",
      "Extracting features...\n",
      "INFO:tensorflow:Saver not created because there are no variables in the graph to restore\n"
     ]
    }
   ],
   "source": [
    "for q in query:\n",
    "    file1.write(\"\\n\") \n",
    "    file1.write(q)\n",
    "    print(\"Query : \",q,\"\\n\")\n",
    "    semantic_search(q, data_processed, BASE_VECTORS)"
   ]
  },
  {
   "cell_type": "code",
   "execution_count": null,
   "metadata": {
    "collapsed": true
   },
   "outputs": [],
   "source": []
  },
  {
   "cell_type": "code",
   "execution_count": null,
   "metadata": {
    "collapsed": true
   },
   "outputs": [],
   "source": []
  }
 ],
 "metadata": {
  "kernelspec": {
   "display_name": "Python 3",
   "language": "python",
   "name": "python3"
  },
  "language_info": {
   "codemirror_mode": {
    "name": "ipython",
    "version": 3
   },
   "file_extension": ".py",
   "mimetype": "text/x-python",
   "name": "python",
   "nbconvert_exporter": "python",
   "pygments_lexer": "ipython3",
   "version": "3.6.8"
  }
 },
 "nbformat": 4,
 "nbformat_minor": 2
}
